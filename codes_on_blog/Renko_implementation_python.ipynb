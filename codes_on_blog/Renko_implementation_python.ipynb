{
  "nbformat": 4,
  "nbformat_minor": 0,
  "metadata": {
    "colab": {
      "name": "Renko_1.ipynb",
      "provenance": []
    },
    "kernelspec": {
      "name": "python3",
      "display_name": "Python 3"
    },
    "language_info": {
      "name": "python"
    }
  },
  "cells": [
    {
      "cell_type": "code",
      "metadata": {
        "colab": {
          "base_uri": "https://localhost:8080/"
        },
        "id": "yo-uPYJImFHQ",
        "outputId": "bacce12f-f15e-433f-b51c-8ae847d1a5b0"
      },
      "source": [
        "pip install yfinance # for getting ohlcv data"
      ],
      "execution_count": null,
      "outputs": [
        {
          "output_type": "stream",
          "text": [
            "Collecting yfinance\n",
            "  Downloading yfinance-0.1.63.tar.gz (26 kB)\n",
            "Requirement already satisfied: pandas>=0.24 in /usr/local/lib/python3.7/dist-packages (from yfinance) (1.1.5)\n",
            "Requirement already satisfied: numpy>=1.15 in /usr/local/lib/python3.7/dist-packages (from yfinance) (1.19.5)\n",
            "Requirement already satisfied: requests>=2.20 in /usr/local/lib/python3.7/dist-packages (from yfinance) (2.23.0)\n",
            "Requirement already satisfied: multitasking>=0.0.7 in /usr/local/lib/python3.7/dist-packages (from yfinance) (0.0.9)\n",
            "Collecting lxml>=4.5.1\n",
            "  Downloading lxml-4.6.3-cp37-cp37m-manylinux2014_x86_64.whl (6.3 MB)\n",
            "\u001b[K     |████████████████████████████████| 6.3 MB 534 kB/s \n",
            "\u001b[?25hRequirement already satisfied: pytz>=2017.2 in /usr/local/lib/python3.7/dist-packages (from pandas>=0.24->yfinance) (2018.9)\n",
            "Requirement already satisfied: python-dateutil>=2.7.3 in /usr/local/lib/python3.7/dist-packages (from pandas>=0.24->yfinance) (2.8.1)\n",
            "Requirement already satisfied: six>=1.5 in /usr/local/lib/python3.7/dist-packages (from python-dateutil>=2.7.3->pandas>=0.24->yfinance) (1.15.0)\n",
            "Requirement already satisfied: urllib3!=1.25.0,!=1.25.1,<1.26,>=1.21.1 in /usr/local/lib/python3.7/dist-packages (from requests>=2.20->yfinance) (1.24.3)\n",
            "Requirement already satisfied: idna<3,>=2.5 in /usr/local/lib/python3.7/dist-packages (from requests>=2.20->yfinance) (2.10)\n",
            "Requirement already satisfied: chardet<4,>=3.0.2 in /usr/local/lib/python3.7/dist-packages (from requests>=2.20->yfinance) (3.0.4)\n",
            "Requirement already satisfied: certifi>=2017.4.17 in /usr/local/lib/python3.7/dist-packages (from requests>=2.20->yfinance) (2021.5.30)\n",
            "Building wheels for collected packages: yfinance\n",
            "  Building wheel for yfinance (setup.py) ... \u001b[?25l\u001b[?25hdone\n",
            "  Created wheel for yfinance: filename=yfinance-0.1.63-py2.py3-none-any.whl size=23919 sha256=22115ba3e47cd443eb5cb7378530645cd5f5c2df2e3b9b737f9f7bf033b22460\n",
            "  Stored in directory: /root/.cache/pip/wheels/fe/87/8b/7ec24486e001d3926537f5f7801f57a74d181be25b11157983\n",
            "Successfully built yfinance\n",
            "Installing collected packages: lxml, yfinance\n",
            "  Attempting uninstall: lxml\n",
            "    Found existing installation: lxml 4.2.6\n",
            "    Uninstalling lxml-4.2.6:\n",
            "      Successfully uninstalled lxml-4.2.6\n",
            "Successfully installed lxml-4.6.3 yfinance-0.1.63\n"
          ],
          "name": "stdout"
        }
      ]
    },
    {
      "cell_type": "code",
      "metadata": {
        "colab": {
          "base_uri": "https://localhost:8080/"
        },
        "id": "gpHiDS9hnBUM",
        "outputId": "2542a15e-025e-4531-c427-d354aee8e63f"
      },
      "source": [
        "pip install mplfinance # for plotting renko charts "
      ],
      "execution_count": null,
      "outputs": [
        {
          "output_type": "stream",
          "text": [
            "Collecting mplfinance\n",
            "  Downloading mplfinance-0.12.7a17-py3-none-any.whl (62 kB)\n",
            "\u001b[?25l\r\u001b[K     |█████▎                          | 10 kB 20.5 MB/s eta 0:00:01\r\u001b[K     |██████████▌                     | 20 kB 26.3 MB/s eta 0:00:01\r\u001b[K     |███████████████▊                | 30 kB 13.4 MB/s eta 0:00:01\r\u001b[K     |█████████████████████           | 40 kB 9.9 MB/s eta 0:00:01\r\u001b[K     |██████████████████████████▎     | 51 kB 5.0 MB/s eta 0:00:01\r\u001b[K     |███████████████████████████████▌| 61 kB 5.8 MB/s eta 0:00:01\r\u001b[K     |████████████████████████████████| 62 kB 672 kB/s \n",
            "\u001b[?25hRequirement already satisfied: matplotlib in /usr/local/lib/python3.7/dist-packages (from mplfinance) (3.2.2)\n",
            "Requirement already satisfied: pandas in /usr/local/lib/python3.7/dist-packages (from mplfinance) (1.1.5)\n",
            "Requirement already satisfied: pyparsing!=2.0.4,!=2.1.2,!=2.1.6,>=2.0.1 in /usr/local/lib/python3.7/dist-packages (from matplotlib->mplfinance) (2.4.7)\n",
            "Requirement already satisfied: cycler>=0.10 in /usr/local/lib/python3.7/dist-packages (from matplotlib->mplfinance) (0.10.0)\n",
            "Requirement already satisfied: kiwisolver>=1.0.1 in /usr/local/lib/python3.7/dist-packages (from matplotlib->mplfinance) (1.3.1)\n",
            "Requirement already satisfied: python-dateutil>=2.1 in /usr/local/lib/python3.7/dist-packages (from matplotlib->mplfinance) (2.8.1)\n",
            "Requirement already satisfied: numpy>=1.11 in /usr/local/lib/python3.7/dist-packages (from matplotlib->mplfinance) (1.19.5)\n",
            "Requirement already satisfied: six in /usr/local/lib/python3.7/dist-packages (from cycler>=0.10->matplotlib->mplfinance) (1.15.0)\n",
            "Requirement already satisfied: pytz>=2017.2 in /usr/local/lib/python3.7/dist-packages (from pandas->mplfinance) (2018.9)\n",
            "Installing collected packages: mplfinance\n",
            "Successfully installed mplfinance-0.12.7a17\n"
          ],
          "name": "stdout"
        }
      ]
    },
    {
      "cell_type": "code",
      "metadata": {
        "id": "rgL70pT0mIh8"
      },
      "source": [
        "import datetime as dt\n",
        "import yfinance as yf\n",
        "import pandas as pd\n",
        "import mplfinance as fplt"
      ],
      "execution_count": null,
      "outputs": []
    },
    {
      "cell_type": "code",
      "metadata": {
        "colab": {
          "base_uri": "https://localhost:8080/"
        },
        "id": "hKsY7TT4l0w4",
        "outputId": "ca9f13a1-b43e-4157-ec99-12f4c25e9646"
      },
      "source": [
        "start_date = dt.datetime.today()- dt.timedelta(1825) # getting data for 1825(around 5 years of data) days --> timedelta is difference in time\n",
        "end_date = dt.datetime.today()\n",
        "ticker_name = \"TCS.NS\"\n",
        "ohlcv = yf.download(ticker_name, start_date, end_date)"
      ],
      "execution_count": null,
      "outputs": [
        {
          "output_type": "stream",
          "text": [
            "\r[*********************100%***********************]  1 of 1 completed\n"
          ],
          "name": "stdout"
        }
      ]
    },
    {
      "cell_type": "code",
      "metadata": {
        "id": "5QQcpXEsSkTH",
        "colab": {
          "base_uri": "https://localhost:8080/",
          "height": 450
        },
        "outputId": "c96ad371-f328-42a6-adc0-ba459b7cd8f6"
      },
      "source": [
        "ohlcv"
      ],
      "execution_count": null,
      "outputs": [
        {
          "output_type": "execute_result",
          "data": {
            "text/html": [
              "<div>\n",
              "<style scoped>\n",
              "    .dataframe tbody tr th:only-of-type {\n",
              "        vertical-align: middle;\n",
              "    }\n",
              "\n",
              "    .dataframe tbody tr th {\n",
              "        vertical-align: top;\n",
              "    }\n",
              "\n",
              "    .dataframe thead th {\n",
              "        text-align: right;\n",
              "    }\n",
              "</style>\n",
              "<table border=\"1\" class=\"dataframe\">\n",
              "  <thead>\n",
              "    <tr style=\"text-align: right;\">\n",
              "      <th></th>\n",
              "      <th>Open</th>\n",
              "      <th>High</th>\n",
              "      <th>Low</th>\n",
              "      <th>Close</th>\n",
              "      <th>Adj Close</th>\n",
              "      <th>Volume</th>\n",
              "    </tr>\n",
              "    <tr>\n",
              "      <th>Date</th>\n",
              "      <th></th>\n",
              "      <th></th>\n",
              "      <th></th>\n",
              "      <th></th>\n",
              "      <th></th>\n",
              "      <th></th>\n",
              "    </tr>\n",
              "  </thead>\n",
              "  <tbody>\n",
              "    <tr>\n",
              "      <th>2016-08-01</th>\n",
              "      <td>1316.000000</td>\n",
              "      <td>1362.500000</td>\n",
              "      <td>1316.000000</td>\n",
              "      <td>1354.125000</td>\n",
              "      <td>1228.742798</td>\n",
              "      <td>3961704</td>\n",
              "    </tr>\n",
              "    <tr>\n",
              "      <th>2016-08-02</th>\n",
              "      <td>1351.449951</td>\n",
              "      <td>1357.849976</td>\n",
              "      <td>1344.900024</td>\n",
              "      <td>1349.599976</td>\n",
              "      <td>1224.636963</td>\n",
              "      <td>2578162</td>\n",
              "    </tr>\n",
              "    <tr>\n",
              "      <th>2016-08-03</th>\n",
              "      <td>1343.000000</td>\n",
              "      <td>1349.500000</td>\n",
              "      <td>1324.525024</td>\n",
              "      <td>1328.150024</td>\n",
              "      <td>1205.172729</td>\n",
              "      <td>2294702</td>\n",
              "    </tr>\n",
              "    <tr>\n",
              "      <th>2016-08-04</th>\n",
              "      <td>1335.000000</td>\n",
              "      <td>1341.474976</td>\n",
              "      <td>1318.125000</td>\n",
              "      <td>1326.000000</td>\n",
              "      <td>1203.221802</td>\n",
              "      <td>1415416</td>\n",
              "    </tr>\n",
              "    <tr>\n",
              "      <th>2016-08-05</th>\n",
              "      <td>1336.949951</td>\n",
              "      <td>1342.150024</td>\n",
              "      <td>1316.000000</td>\n",
              "      <td>1324.550049</td>\n",
              "      <td>1201.906250</td>\n",
              "      <td>1868484</td>\n",
              "    </tr>\n",
              "    <tr>\n",
              "      <th>...</th>\n",
              "      <td>...</td>\n",
              "      <td>...</td>\n",
              "      <td>...</td>\n",
              "      <td>...</td>\n",
              "      <td>...</td>\n",
              "      <td>...</td>\n",
              "    </tr>\n",
              "    <tr>\n",
              "      <th>2021-07-26</th>\n",
              "      <td>3200.000000</td>\n",
              "      <td>3224.250000</td>\n",
              "      <td>3190.850098</td>\n",
              "      <td>3197.550049</td>\n",
              "      <td>3197.550049</td>\n",
              "      <td>1259611</td>\n",
              "    </tr>\n",
              "    <tr>\n",
              "      <th>2021-07-27</th>\n",
              "      <td>3200.000000</td>\n",
              "      <td>3210.000000</td>\n",
              "      <td>3161.149902</td>\n",
              "      <td>3182.949951</td>\n",
              "      <td>3182.949951</td>\n",
              "      <td>1121367</td>\n",
              "    </tr>\n",
              "    <tr>\n",
              "      <th>2021-07-28</th>\n",
              "      <td>3188.000000</td>\n",
              "      <td>3204.449951</td>\n",
              "      <td>3132.399902</td>\n",
              "      <td>3197.800049</td>\n",
              "      <td>3197.800049</td>\n",
              "      <td>1660654</td>\n",
              "    </tr>\n",
              "    <tr>\n",
              "      <th>2021-07-29</th>\n",
              "      <td>3200.250000</td>\n",
              "      <td>3225.449951</td>\n",
              "      <td>3190.300049</td>\n",
              "      <td>3195.800049</td>\n",
              "      <td>3195.800049</td>\n",
              "      <td>1731997</td>\n",
              "    </tr>\n",
              "    <tr>\n",
              "      <th>2021-07-30</th>\n",
              "      <td>3219.000000</td>\n",
              "      <td>3223.500000</td>\n",
              "      <td>3162.350098</td>\n",
              "      <td>3167.449951</td>\n",
              "      <td>3167.449951</td>\n",
              "      <td>2999943</td>\n",
              "    </tr>\n",
              "  </tbody>\n",
              "</table>\n",
              "<p>1232 rows × 6 columns</p>\n",
              "</div>"
            ],
            "text/plain": [
              "                   Open         High  ...    Adj Close   Volume\n",
              "Date                                  ...                      \n",
              "2016-08-01  1316.000000  1362.500000  ...  1228.742798  3961704\n",
              "2016-08-02  1351.449951  1357.849976  ...  1224.636963  2578162\n",
              "2016-08-03  1343.000000  1349.500000  ...  1205.172729  2294702\n",
              "2016-08-04  1335.000000  1341.474976  ...  1203.221802  1415416\n",
              "2016-08-05  1336.949951  1342.150024  ...  1201.906250  1868484\n",
              "...                 ...          ...  ...          ...      ...\n",
              "2021-07-26  3200.000000  3224.250000  ...  3197.550049  1259611\n",
              "2021-07-27  3200.000000  3210.000000  ...  3182.949951  1121367\n",
              "2021-07-28  3188.000000  3204.449951  ...  3197.800049  1660654\n",
              "2021-07-29  3200.250000  3225.449951  ...  3195.800049  1731997\n",
              "2021-07-30  3219.000000  3223.500000  ...  3167.449951  2999943\n",
              "\n",
              "[1232 rows x 6 columns]"
            ]
          },
          "metadata": {
            "tags": []
          },
          "execution_count": 5
        }
      ]
    },
    {
      "cell_type": "code",
      "metadata": {
        "id": "ilvQcKWbl5R-"
      },
      "source": [
        "# Function to calculate average true range\n",
        "def ATR(DF, n):\n",
        "  df = DF.copy() # making copy of the original dataframe\n",
        "  df['H-L'] = abs(df['High'] - df['Low']) \n",
        "  df['H-PC'] = abs(df['High'] - df['Adj Close'].shift(1))# high -previous close\n",
        "  df['L-PC'] = abs(df['Low'] - df['Adj Close'].shift(1)) #low - previous close\n",
        "  df['TR'] = df[['H-L','H-PC','L-PC']].max(axis =1, skipna = False) # True range\n",
        "  df['ATR'] = df['TR'].rolling(n).mean() # average –true range\n",
        "  df = df.drop(['H-L','H-PC','L-PC'], axis =1) # dropping the unneccesary columns\n",
        "  df.dropna(inplace = True) # droping null items\n",
        "  return df"
      ],
      "execution_count": null,
      "outputs": []
    },
    {
      "cell_type": "code",
      "metadata": {
        "id": "JEZpewYw4IDI",
        "colab": {
          "base_uri": "https://localhost:8080/",
          "height": 440
        },
        "outputId": "25edf040-5f93-4c8b-ab46-3670b998700b"
      },
      "source": [
        "ATR(ohlcv,50)"
      ],
      "execution_count": null,
      "outputs": [
        {
          "output_type": "execute_result",
          "data": {
            "text/html": [
              "<div>\n",
              "<style scoped>\n",
              "    .dataframe tbody tr th:only-of-type {\n",
              "        vertical-align: middle;\n",
              "    }\n",
              "\n",
              "    .dataframe tbody tr th {\n",
              "        vertical-align: top;\n",
              "    }\n",
              "\n",
              "    .dataframe thead th {\n",
              "        text-align: right;\n",
              "    }\n",
              "</style>\n",
              "<table border=\"1\" class=\"dataframe\">\n",
              "  <thead>\n",
              "    <tr style=\"text-align: right;\">\n",
              "      <th></th>\n",
              "      <th>Open</th>\n",
              "      <th>High</th>\n",
              "      <th>Low</th>\n",
              "      <th>Close</th>\n",
              "      <th>Adj Close</th>\n",
              "      <th>Volume</th>\n",
              "      <th>TR</th>\n",
              "      <th>ATR</th>\n",
              "    </tr>\n",
              "    <tr>\n",
              "      <th>Date</th>\n",
              "      <th></th>\n",
              "      <th></th>\n",
              "      <th></th>\n",
              "      <th></th>\n",
              "      <th></th>\n",
              "      <th></th>\n",
              "      <th></th>\n",
              "      <th></th>\n",
              "    </tr>\n",
              "  </thead>\n",
              "  <tbody>\n",
              "    <tr>\n",
              "      <th>2016-10-10</th>\n",
              "      <td>1184.949951</td>\n",
              "      <td>1193.449951</td>\n",
              "      <td>1177.525024</td>\n",
              "      <td>1190.150024</td>\n",
              "      <td>1079.950806</td>\n",
              "      <td>1202142</td>\n",
              "      <td>119.170532</td>\n",
              "      <td>126.494033</td>\n",
              "    </tr>\n",
              "    <tr>\n",
              "      <th>2016-10-13</th>\n",
              "      <td>1181.650024</td>\n",
              "      <td>1184.949951</td>\n",
              "      <td>1160.449951</td>\n",
              "      <td>1164.449951</td>\n",
              "      <td>1056.630371</td>\n",
              "      <td>5173334</td>\n",
              "      <td>104.999146</td>\n",
              "      <td>125.687385</td>\n",
              "    </tr>\n",
              "    <tr>\n",
              "      <th>2016-10-14</th>\n",
              "      <td>1157.500000</td>\n",
              "      <td>1193.500000</td>\n",
              "      <td>1145.500000</td>\n",
              "      <td>1183.099976</td>\n",
              "      <td>1073.553223</td>\n",
              "      <td>7741214</td>\n",
              "      <td>136.869629</td>\n",
              "      <td>125.843042</td>\n",
              "    </tr>\n",
              "    <tr>\n",
              "      <th>2016-10-17</th>\n",
              "      <td>1184.449951</td>\n",
              "      <td>1187.900024</td>\n",
              "      <td>1172.199951</td>\n",
              "      <td>1181.224976</td>\n",
              "      <td>1071.852051</td>\n",
              "      <td>2728346</td>\n",
              "      <td>114.346802</td>\n",
              "      <td>124.647690</td>\n",
              "    </tr>\n",
              "    <tr>\n",
              "      <th>2016-10-18</th>\n",
              "      <td>1188.000000</td>\n",
              "      <td>1207.849976</td>\n",
              "      <td>1177.400024</td>\n",
              "      <td>1200.099976</td>\n",
              "      <td>1088.979004</td>\n",
              "      <td>2128632</td>\n",
              "      <td>135.997925</td>\n",
              "      <td>124.785505</td>\n",
              "    </tr>\n",
              "    <tr>\n",
              "      <th>...</th>\n",
              "      <td>...</td>\n",
              "      <td>...</td>\n",
              "      <td>...</td>\n",
              "      <td>...</td>\n",
              "      <td>...</td>\n",
              "      <td>...</td>\n",
              "      <td>...</td>\n",
              "      <td>...</td>\n",
              "    </tr>\n",
              "    <tr>\n",
              "      <th>2021-07-19</th>\n",
              "      <td>3180.000000</td>\n",
              "      <td>3199.800049</td>\n",
              "      <td>3176.000000</td>\n",
              "      <td>3184.600098</td>\n",
              "      <td>3184.600098</td>\n",
              "      <td>1597058</td>\n",
              "      <td>23.800049</td>\n",
              "      <td>52.690537</td>\n",
              "    </tr>\n",
              "    <tr>\n",
              "      <th>2021-07-20</th>\n",
              "      <td>3184.600098</td>\n",
              "      <td>3215.000000</td>\n",
              "      <td>3156.149902</td>\n",
              "      <td>3205.800049</td>\n",
              "      <td>3205.800049</td>\n",
              "      <td>1811945</td>\n",
              "      <td>58.850098</td>\n",
              "      <td>52.800757</td>\n",
              "    </tr>\n",
              "    <tr>\n",
              "      <th>2021-07-22</th>\n",
              "      <td>3190.000000</td>\n",
              "      <td>3224.949951</td>\n",
              "      <td>3190.000000</td>\n",
              "      <td>3216.350098</td>\n",
              "      <td>3216.350098</td>\n",
              "      <td>2859334</td>\n",
              "      <td>34.949951</td>\n",
              "      <td>52.760752</td>\n",
              "    </tr>\n",
              "    <tr>\n",
              "      <th>2021-07-23</th>\n",
              "      <td>3230.000000</td>\n",
              "      <td>3241.550049</td>\n",
              "      <td>3206.649902</td>\n",
              "      <td>3212.850098</td>\n",
              "      <td>3212.850098</td>\n",
              "      <td>1776193</td>\n",
              "      <td>34.900146</td>\n",
              "      <td>52.470757</td>\n",
              "    </tr>\n",
              "    <tr>\n",
              "      <th>2021-07-26</th>\n",
              "      <td>3200.000000</td>\n",
              "      <td>3224.250000</td>\n",
              "      <td>3197.300049</td>\n",
              "      <td>3201.000000</td>\n",
              "      <td>3201.000000</td>\n",
              "      <td>691693</td>\n",
              "      <td>26.949951</td>\n",
              "      <td>51.839756</td>\n",
              "    </tr>\n",
              "  </tbody>\n",
              "</table>\n",
              "<p>1181 rows × 8 columns</p>\n",
              "</div>"
            ],
            "text/plain": [
              "                   Open         High  ...          TR         ATR\n",
              "Date                                  ...                        \n",
              "2016-10-10  1184.949951  1193.449951  ...  119.170532  126.494033\n",
              "2016-10-13  1181.650024  1184.949951  ...  104.999146  125.687385\n",
              "2016-10-14  1157.500000  1193.500000  ...  136.869629  125.843042\n",
              "2016-10-17  1184.449951  1187.900024  ...  114.346802  124.647690\n",
              "2016-10-18  1188.000000  1207.849976  ...  135.997925  124.785505\n",
              "...                 ...          ...  ...         ...         ...\n",
              "2021-07-19  3180.000000  3199.800049  ...   23.800049   52.690537\n",
              "2021-07-20  3184.600098  3215.000000  ...   58.850098   52.800757\n",
              "2021-07-22  3190.000000  3224.949951  ...   34.949951   52.760752\n",
              "2021-07-23  3230.000000  3241.550049  ...   34.900146   52.470757\n",
              "2021-07-26  3200.000000  3224.250000  ...   26.949951   51.839756\n",
              "\n",
              "[1181 rows x 8 columns]"
            ]
          },
          "metadata": {
            "tags": []
          },
          "execution_count": 8
        }
      ]
    },
    {
      "cell_type": "code",
      "metadata": {
        "id": "O4dlw4mNYu9j"
      },
      "source": [
        "bricks = round(ATR(ohlcv,50)[\"ATR\"][-1],0) # Using default 50 days rolling average."
      ],
      "execution_count": null,
      "outputs": []
    },
    {
      "cell_type": "code",
      "metadata": {
        "id": "CBxkV44cwbWG",
        "colab": {
          "base_uri": "https://localhost:8080/"
        },
        "outputId": "536d7b5a-c5c5-4678-ae45-9ab131acdb36"
      },
      "source": [
        "bricks"
      ],
      "execution_count": null,
      "outputs": [
        {
          "output_type": "execute_result",
          "data": {
            "text/plain": [
              "52.0"
            ]
          },
          "metadata": {
            "tags": []
          },
          "execution_count": 7
        }
      ]
    },
    {
      "cell_type": "code",
      "metadata": {
        "colab": {
          "base_uri": "https://localhost:8080/",
          "height": 690
        },
        "id": "n6HkqL8Ok9y7",
        "outputId": "ea7b802d-6d1f-4866-dc1f-c4bc530d1e60"
      },
      "source": [
        "fplt.plot(ohlcv,type='renko',renko_params=dict(brick_size=bricks, atr_length=14),\n",
        "          style='yahoo',figsize =(18,7),\n",
        "          title = \"RENKO CHART WITH ATR for {0}\".format(ticker_name))"
      ],
      "execution_count": null,
      "outputs": [
        {
          "output_type": "display_data",
          "data": {
            "image/png": "[encoded data removed]",
            "text/plain": [
              "<Figure size 1800x700 with 2 Axes>"
            ]
          },
          "metadata": {
            "tags": []
          }
        }
      ]
    },
    {
      "cell_type": "code",
      "metadata": {
        "id": "U-66lmhd6oqQ"
      },
      "source": [
        ""
      ],
      "execution_count": null,
      "outputs": []
    }
  ]
}